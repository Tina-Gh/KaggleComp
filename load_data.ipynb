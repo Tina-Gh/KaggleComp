{
 "cells": [
  {
   "cell_type": "code",
   "execution_count": null,
   "metadata": {
    "collapsed": true
   },
   "outputs": [],
   "source": []
  },
  {
   "cell_type": "code",
   "execution_count": null,
   "outputs": [],
   "source": [
    "import os\n",
    "import pandas as pd\n",
    "import numpy as np\n",
    "import cv2\n",
    "from matplotlib import pyplot as plt\n",
    "from sklearn.preprocessing import LabelEncoder\n",
    "import random\n",
    "import pickle"
   ],
   "metadata": {
    "collapsed": false,
    "pycharm": {
     "name": "#%%\n"
    }
   }
  },
  {
   "cell_type": "code",
   "execution_count": null,
   "outputs": [],
   "source": [
    "base_dir = \"./ranzcr_clip_catheter_line_classification/\"\n",
    "train_df = pd.read_csv(os.path.join(base_dir, \"train.csv\"))\n",
    "\n",
    "#concat all the labels into a single number\n",
    "target_cols = train_df.drop(['StudyInstanceUID', 'PatientID'],axis=1).columns.values.tolist()\n",
    "targets = train_df[target_cols].astype(str)\n",
    "# create a new col to store the label\n",
    "train_df['combined_label'] = ''\n",
    "for i in range(targets.shape[1]):\n",
    "    train_df['combined_label'] += targets.iloc[:,i]\n",
    "# how many of each label there are\n",
    "train_df.combined_label.value_counts()\n",
    "#encode training labels\n",
    "train_df['combined_label'] = LabelEncoder().fit_transform(train_df['combined_label'])\n"
   ],
   "metadata": {
    "collapsed": false,
    "pycharm": {
     "name": "#%%\n"
    }
   }
  },
  {
   "cell_type": "code",
   "execution_count": null,
   "outputs": [],
   "source": [
    "def load_resize_training_data(imageSize=650):\n",
    "    path = os.path.join(base_dir, \"train/\")\n",
    "    trainingData = []\n",
    "\n",
    "    for img in os.listdir(path):\n",
    "        img_array = cv2.imread(os.path.join(path, img), cv2.IMREAD_GRAYSCALE)\n",
    "        resized_array = cv2.resize(img_array, (imageSize, imageSize))\n",
    "        trainingData.append([resized_array, train_df.at[i, 'combined_label']])\n",
    "\n",
    "    plt.imshow(trainingData[0][0], cmap=\"gray\")\n",
    "\n",
    "    return trainingData\n",
    "\n",
    "data = load_resize_training_data()"
   ],
   "metadata": {
    "collapsed": false,
    "pycharm": {
     "name": "#%%\n"
    }
   }
  },
  {
   "cell_type": "code",
   "execution_count": null,
   "outputs": [],
   "source": [
    "#shuffle dataset\n",
    "random.shuffle(data)\n",
    "data=np.array(data)\n",
    "#save x data\n",
    "pickle_out=open(\"X.pickle\", \"wb\")\n",
    "pickle.dump(data[:,0], pickle_out)\n",
    "pickle_out.close()\n",
    "#save y data\n",
    "pickle_out=open(\"y.pickle\", \"wb\")\n",
    "pickle.dump(data[:,1], pickle_out)\n",
    "pickle_out.close()\n",
    "\n"
   ],
   "metadata": {
    "collapsed": false,
    "pycharm": {
     "name": "#%%\n"
    }
   }
  }
 ],
 "metadata": {
  "kernelspec": {
   "display_name": "Python 3",
   "language": "python",
   "name": "python3"
  },
  "language_info": {
   "codemirror_mode": {
    "name": "ipython",
    "version": 2
   },
   "file_extension": ".py",
   "mimetype": "text/x-python",
   "name": "python",
   "nbconvert_exporter": "python",
   "pygments_lexer": "ipython2",
   "version": "2.7.6"
  }
 },
 "nbformat": 4,
 "nbformat_minor": 0
}